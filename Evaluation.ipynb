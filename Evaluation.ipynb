{
 "cells": [
  {
   "cell_type": "markdown",
   "id": "6029909b",
   "metadata": {},
   "source": [
    "# Evaluation notebook\n",
    "You can run this code in parallel to the Syne Tune parameter search happening. You can find your experiment name in the first few logs returned by Syne Tune"
   ]
  },
  {
   "cell_type": "code",
   "execution_count": null,
   "id": "b78a0c17",
   "metadata": {},
   "outputs": [],
   "source": [
    "from matplotlib import pyplot as plt\n",
    "\n",
    "plt.style.use(\"seaborn-pastel\")  # set style\n",
    "plt.rcParams[\"figure.figsize\"] = [15, 5]\n",
    "plt.rcParams[\"font.size\"] = 12"
   ]
  },
  {
   "cell_type": "code",
   "execution_count": null,
   "id": "86343398",
   "metadata": {
    "scrolled": true
   },
   "outputs": [],
   "source": [
    "from syne_tune.experiments import load_experiment\n",
    "\n",
    "tuning_experiment = load_experiment(\"<enter your experiment here>\")"
   ]
  },
  {
   "cell_type": "code",
   "execution_count": null,
   "id": "ea16bc91",
   "metadata": {},
   "outputs": [],
   "source": [
    "# metric over time\n",
    "tuning_experiment.plot()"
   ]
  },
  {
   "cell_type": "code",
   "execution_count": null,
   "id": "3c5d995a",
   "metadata": {},
   "outputs": [],
   "source": [
    "df = tuning_experiment.results\n",
    "\n",
    "columns = ['avg_download_time',\n",
    "    'config_max_concurrency',\n",
    "    'config_max_io_queue',\n",
    "    'config_io_chunksize',\n",
    "    'config_multipart_chunksize']\n",
    "\n",
    "# 10 latest trials, sorted by time\n",
    "df[['trial_id', 'st_tuner_time'] + columns].sort_values(by='trial_id', ascending=True)#.tail(n=10)"
   ]
  },
  {
   "cell_type": "code",
   "execution_count": null,
   "id": "ee2603b0",
   "metadata": {},
   "outputs": [],
   "source": [
    "# 10 best trials, sorted by performance\n",
    "df[['trial_id', 'st_tuner_time'] + columns].sort_values(by='avg_download_time', ascending=True).head(n=10)"
   ]
  },
  {
   "cell_type": "code",
   "execution_count": null,
   "id": "bbd15a5b",
   "metadata": {},
   "outputs": [],
   "source": [
    "import pandas as pd\n",
    "\n",
    "# check which areas of the configuration space have been explored\n",
    "pd.plotting.scatter_matrix(\n",
    "    frame=df[columns],\n",
    "    figsize=(20,15),\n",
    "    diagonal='kde',\n",
    "    s=100,\n",
    "    c='blue',\n",
    "    alpha=0.3)"
   ]
  },
  {
   "cell_type": "code",
   "execution_count": null,
   "id": "5a59dd74",
   "metadata": {},
   "outputs": [],
   "source": []
  },
  {
   "cell_type": "code",
   "execution_count": null,
   "id": "a2450e0e",
   "metadata": {},
   "outputs": [],
   "source": []
  }
 ],
 "metadata": {
  "kernelspec": {
   "display_name": "conda_python3",
   "language": "python",
   "name": "conda_python3"
  },
  "language_info": {
   "codemirror_mode": {
    "name": "ipython",
    "version": 3
   },
   "file_extension": ".py",
   "mimetype": "text/x-python",
   "name": "python",
   "nbconvert_exporter": "python",
   "pygments_lexer": "ipython3",
   "version": "3.6.13"
  }
 },
 "nbformat": 4,
 "nbformat_minor": 5
}
