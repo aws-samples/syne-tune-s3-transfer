{
 "cells": [
  {
   "cell_type": "markdown",
   "id": "35f4ef1f",
   "metadata": {},
   "source": [
    "# Learn S3 transfer configuration with Syne Tune\n",
    "In this repo, we show how to tune and learn a good configuration for Boto3 `download_file` function, using Bayesian optimization from the open-source Syne Tune library https://github.com/awslabs/syne-tune.\n",
    "This notebook was developed from the `conda_python3` kernel of an ml.m5d.12xlarge SageMaker Notebook instance. However, you can test this anywhere you can (1) have a connectivity and permissions to use Amazon S3 and (2) install the associated dependencies. **You do NOT need Jupyter notebooks nor Amazon SageMaker in order to use Syne Tune**. They are used here as convenience to support the example."
   ]
  },
  {
   "cell_type": "code",
   "execution_count": null,
   "id": "a27560f7",
   "metadata": {},
   "outputs": [],
   "source": [
    "# Install dependencies\n",
    "! pip install -r requirements.txt"
   ]
  },
  {
   "cell_type": "markdown",
   "id": "03d55b06",
   "metadata": {},
   "source": [
    "# Make a big file\n",
    "In this example we tune the S3 download using a random file"
   ]
  },
  {
   "cell_type": "code",
   "execution_count": null,
   "id": "763fea48",
   "metadata": {},
   "outputs": [],
   "source": [
    "file_name = 'random_file.txt'\n",
    "file_path = '/home/ec2-user/SageMaker/'"
   ]
  },
  {
   "cell_type": "code",
   "execution_count": null,
   "id": "b3d1a27a",
   "metadata": {},
   "outputs": [],
   "source": [
    "! fallocate -l 10GiB $file_name"
   ]
  },
  {
   "cell_type": "code",
   "execution_count": null,
   "id": "b2a1f706",
   "metadata": {},
   "outputs": [],
   "source": [
    "# we will tune download from this bucket\n",
    "bucket = '<enter an S3 bucket here>'"
   ]
  },
  {
   "cell_type": "code",
   "execution_count": null,
   "id": "6d098a28",
   "metadata": {},
   "outputs": [],
   "source": [
    "%%time\n",
    "\n",
    "# send the random file to the S3 bucket\n",
    "! aws s3 cp $file_name \"s3://$bucket/$file_name\""
   ]
  },
  {
   "cell_type": "markdown",
   "id": "1da4f9d4",
   "metadata": {},
   "source": [
    "# Test default download speed"
   ]
  },
  {
   "cell_type": "code",
   "execution_count": null,
   "id": "b6aa0397",
   "metadata": {},
   "outputs": [],
   "source": [
    "from pathlib import Path\n",
    "import tempfile\n",
    "import time\n",
    "\n",
    "\n",
    "import boto3\n",
    "\n",
    "\n",
    "s3 = boto3.resource('s3')\n",
    "\n",
    "durations = []\n",
    "for _ in range(3):\n",
    "    \n",
    "    # write with tempfile to avoid overwrites\n",
    "\n",
    "    \n",
    "    with tempfile.TemporaryDirectory(dir=file_path) as local_path:\n",
    "        \n",
    "        t1 = time.time()\n",
    "        s3.Object(bucket_name=bucket, key=file_name).download_file(\n",
    "            Filename=str(Path(local_path) / file_name)\n",
    "        )\n",
    "        duration = time.time() - t1\n",
    "    \n",
    "    print(duration)\n",
    "    durations.append(duration)\n",
    "\n",
    "print(f\"avg: {sum(durations)/len(durations)}\")"
   ]
  },
  {
   "cell_type": "markdown",
   "id": "393ffad0",
   "metadata": {},
   "source": [
    "# Run the tuner locally"
   ]
  },
  {
   "cell_type": "code",
   "execution_count": null,
   "id": "0c19c32c",
   "metadata": {},
   "outputs": [],
   "source": [
    "%%time\n",
    "\n",
    "! python launcher.py \\\n",
    "    --bucket $bucket \\\n",
    "    --key $file_name \\\n",
    "    --file_path $file_path \\\n",
    "    --file_name $file_name \\\n",
    "    --init boto3_defaults \\\n",
    "    --n_downloads 3 \\\n",
    "    --search bayes_fifo \\\n",
    "    --max_tuning_time 12000"
   ]
  },
  {
   "cell_type": "markdown",
   "id": "ceb99218",
   "metadata": {},
   "source": [
    "# Analyze results\n",
    "While the tuner is running, you can go to the notebook `Evaluation.ipynb` to check tuning progression in real-time"
   ]
  },
  {
   "cell_type": "markdown",
   "id": "3d054f1a",
   "metadata": {},
   "source": [
    "# Test best config\n",
    "You can test below a specific Transfer config. Below is an example good config found by Syne Tune on a 5GiB file"
   ]
  },
  {
   "cell_type": "code",
   "execution_count": null,
   "id": "4142801d",
   "metadata": {},
   "outputs": [],
   "source": [
    "from boto3.s3.transfer import TransferConfig\n",
    "\n",
    "config = TransferConfig(\n",
    "    max_io_queue=100,\n",
    "    max_concurrency=317,\n",
    "    io_chunksize=7271130,\n",
    "    multipart_chunksize=864349587,\n",
    ")\n",
    "\n",
    "durations = []\n",
    "for _ in range(5):\n",
    "\n",
    "    with tempfile.TemporaryDirectory(dir=file_path) as local_path:\n",
    "        \n",
    "        t1 = time.time()\n",
    "        s3.Object(bucket_name=bucket, key=file_name).download_file(\n",
    "            Filename=str(Path(local_path) / file_name),\n",
    "            Config=config\n",
    "        )\n",
    "        duration = time.time() - t1\n",
    "    \n",
    "    print(duration)\n",
    "    durations.append(duration)\n",
    "    \n",
    "print(f\"avg: {sum(durations)/len(durations)}\")"
   ]
  }
 ],
 "metadata": {
  "kernelspec": {
   "display_name": "conda_python3",
   "language": "python",
   "name": "conda_python3"
  },
  "language_info": {
   "codemirror_mode": {
    "name": "ipython",
    "version": 3
   },
   "file_extension": ".py",
   "mimetype": "text/x-python",
   "name": "python",
   "nbconvert_exporter": "python",
   "pygments_lexer": "ipython3",
   "version": "3.6.13"
  }
 },
 "nbformat": 4,
 "nbformat_minor": 5
}
